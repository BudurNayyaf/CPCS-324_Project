{
  "nbformat": 4,
  "nbformat_minor": 0,
  "metadata": {
    "colab": {
      "name": "Model2.ipynb",
      "provenance": [],
      "include_colab_link": true
    },
    "kernelspec": {
      "name": "python3",
      "display_name": "Python 3"
    },
    "language_info": {
      "name": "python"
    }
  },
  "cells": [
    {
      "cell_type": "markdown",
      "metadata": {
        "id": "view-in-github",
        "colab_type": "text"
      },
      "source": [
        "<a href=\"https://colab.research.google.com/github/KARGroup2/CPCS-324_Project/blob/main/Model2.ipynb\" target=\"_parent\"><img src=\"https://colab.research.google.com/assets/colab-badge.svg\" alt=\"Open In Colab\"/></a>"
      ]
    },
    {
      "cell_type": "code",
      "execution_count": 1,
      "metadata": {
        "id": "woLYyV1d5Q5L",
        "colab": {
          "base_uri": "https://localhost:8080/"
        },
        "outputId": "86233423-a863-4d82-fd1b-6a7ce54b7a54"
      },
      "outputs": [
        {
          "output_type": "stream",
          "name": "stdout",
          "text": [
            "Mounted at /content/drive\n"
          ]
        }
      ],
      "source": [
        "from google.colab import drive\n",
        "drive.mount('/content/drive')"
      ]
    },
    {
      "cell_type": "code",
      "source": [
        "import matplotlib.pyplot as plt\n",
        "import cv2\n",
        "import numpy as np\n",
        "from keras.models import Sequential\n",
        "from keras.layers import Dense, Flatten, Conv2D, MaxPool2D, Dropout\n",
        "#from keras.optimizers import SGD, Adam\n",
        "from tensorflow.keras.optimizers import Adam,SGD \n",
        "from keras.callbacks import ReduceLROnPlateau, EarlyStopping\n",
        "from tensorflow.keras.utils import to_categorical\n",
        "import pandas as pd\n",
        "import numpy as np\n",
        "from sklearn.model_selection import train_test_split\n",
        "from sklearn.utils import shuffle"
      ],
      "metadata": {
        "id": "mdgrvmZzZpBZ"
      },
      "execution_count": 2,
      "outputs": []
    },
    {
      "cell_type": "code",
      "source": [
        "path= \"/content/drive/MyDrive/datasetTesting.csv\"\n",
        "data= pd.read_csv(path)\n",
        "data.head()"
      ],
      "metadata": {
        "colab": {
          "base_uri": "https://localhost:8080/",
          "height": 265
        },
        "id": "T73S-wzcc2-k",
        "outputId": "4065e58e-c190-4638-c5b7-d7b3a64f1f4d"
      },
      "execution_count": 3,
      "outputs": [
        {
          "output_type": "execute_result",
          "data": {
            "text/plain": [
              "               Images       City name   ZIP Unnamed: 3  \\\n",
              "0  set_a/ae07_001.bmp         الشرايع  1251   ae07_001   \n",
              "1  set_a/ae07_002.bmp  دوّار.اللّواته  3077   ae07_002   \n",
              "2  set_a/ae07_003.bmp         اللواتة  7041   ae07_003   \n",
              "3  set_a/ae07_004.bmp   القلعةالصّغرى  4021   ae07_004   \n",
              "4  set_a/ae07_005.bmp       الدخّانية  6122   ae07_005   \n",
              "\n",
              "  Overlapping | A mistake by the author, but it has no effect | Mistakes I found in the images  \\\n",
              "0  LBL: ZIP:1251;AW1:الشرايع;AW2:aaA|laB|shM|raE|...                                             \n",
              "1  LBL: ZIP:3077;AW1:دوّار.اللّواته;AW2:daA|waAll...                                             \n",
              "2  LBL: ZIP:7041;AW1:اللواتة;AW2:aaA|laB|laM|waE|...                                             \n",
              "3  LBL: ZIP:4021;AW1:القلعةالصّغرى;AW2:aaA|laB|ka...                                             \n",
              "4  LBL: ZIP:6122;AW1:الدخّانية;AW2:aaA|laB|daE|kh...                                             \n",
              "\n",
              "  Unnamed: 5                                       Final Labels  \n",
              "0        NaN                        aaA|laB|shM|raE|aaA|yaB|ayE  \n",
              "1        NaN  daA|waA11L|aaA|raA|aaA|laB|laM11L|waE|aaA|taB|teE  \n",
              "2        NaN                        aaA|laB|laM|waE|aaA|taB|teE  \n",
              "3        NaN  aaA|laB|kaM|laM|ayM|teE|aaA|laB|saM11L|ghM|raE...  \n",
              "4        NaN                 aaA|laB|daE|khB11L|aaE|naB|yaM|teE  "
            ],
            "text/html": [
              "\n",
              "  <div id=\"df-8b82e9fb-fdfc-47b4-bf7f-e322813a6edc\">\n",
              "    <div class=\"colab-df-container\">\n",
              "      <div>\n",
              "<style scoped>\n",
              "    .dataframe tbody tr th:only-of-type {\n",
              "        vertical-align: middle;\n",
              "    }\n",
              "\n",
              "    .dataframe tbody tr th {\n",
              "        vertical-align: top;\n",
              "    }\n",
              "\n",
              "    .dataframe thead th {\n",
              "        text-align: right;\n",
              "    }\n",
              "</style>\n",
              "<table border=\"1\" class=\"dataframe\">\n",
              "  <thead>\n",
              "    <tr style=\"text-align: right;\">\n",
              "      <th></th>\n",
              "      <th>Images</th>\n",
              "      <th>City name</th>\n",
              "      <th>ZIP</th>\n",
              "      <th>Unnamed: 3</th>\n",
              "      <th>Overlapping | A mistake by the author, but it has no effect | Mistakes I found in the images</th>\n",
              "      <th>Unnamed: 5</th>\n",
              "      <th>Final Labels</th>\n",
              "    </tr>\n",
              "  </thead>\n",
              "  <tbody>\n",
              "    <tr>\n",
              "      <th>0</th>\n",
              "      <td>set_a/ae07_001.bmp</td>\n",
              "      <td>الشرايع</td>\n",
              "      <td>1251</td>\n",
              "      <td>ae07_001</td>\n",
              "      <td>LBL: ZIP:1251;AW1:الشرايع;AW2:aaA|laB|shM|raE|...</td>\n",
              "      <td>NaN</td>\n",
              "      <td>aaA|laB|shM|raE|aaA|yaB|ayE</td>\n",
              "    </tr>\n",
              "    <tr>\n",
              "      <th>1</th>\n",
              "      <td>set_a/ae07_002.bmp</td>\n",
              "      <td>دوّار.اللّواته</td>\n",
              "      <td>3077</td>\n",
              "      <td>ae07_002</td>\n",
              "      <td>LBL: ZIP:3077;AW1:دوّار.اللّواته;AW2:daA|waAll...</td>\n",
              "      <td>NaN</td>\n",
              "      <td>daA|waA11L|aaA|raA|aaA|laB|laM11L|waE|aaA|taB|teE</td>\n",
              "    </tr>\n",
              "    <tr>\n",
              "      <th>2</th>\n",
              "      <td>set_a/ae07_003.bmp</td>\n",
              "      <td>اللواتة</td>\n",
              "      <td>7041</td>\n",
              "      <td>ae07_003</td>\n",
              "      <td>LBL: ZIP:7041;AW1:اللواتة;AW2:aaA|laB|laM|waE|...</td>\n",
              "      <td>NaN</td>\n",
              "      <td>aaA|laB|laM|waE|aaA|taB|teE</td>\n",
              "    </tr>\n",
              "    <tr>\n",
              "      <th>3</th>\n",
              "      <td>set_a/ae07_004.bmp</td>\n",
              "      <td>القلعةالصّغرى</td>\n",
              "      <td>4021</td>\n",
              "      <td>ae07_004</td>\n",
              "      <td>LBL: ZIP:4021;AW1:القلعةالصّغرى;AW2:aaA|laB|ka...</td>\n",
              "      <td>NaN</td>\n",
              "      <td>aaA|laB|kaM|laM|ayM|teE|aaA|laB|saM11L|ghM|raE...</td>\n",
              "    </tr>\n",
              "    <tr>\n",
              "      <th>4</th>\n",
              "      <td>set_a/ae07_005.bmp</td>\n",
              "      <td>الدخّانية</td>\n",
              "      <td>6122</td>\n",
              "      <td>ae07_005</td>\n",
              "      <td>LBL: ZIP:6122;AW1:الدخّانية;AW2:aaA|laB|daE|kh...</td>\n",
              "      <td>NaN</td>\n",
              "      <td>aaA|laB|daE|khB11L|aaE|naB|yaM|teE</td>\n",
              "    </tr>\n",
              "  </tbody>\n",
              "</table>\n",
              "</div>\n",
              "      <button class=\"colab-df-convert\" onclick=\"convertToInteractive('df-8b82e9fb-fdfc-47b4-bf7f-e322813a6edc')\"\n",
              "              title=\"Convert this dataframe to an interactive table.\"\n",
              "              style=\"display:none;\">\n",
              "        \n",
              "  <svg xmlns=\"http://www.w3.org/2000/svg\" height=\"24px\"viewBox=\"0 0 24 24\"\n",
              "       width=\"24px\">\n",
              "    <path d=\"M0 0h24v24H0V0z\" fill=\"none\"/>\n",
              "    <path d=\"M18.56 5.44l.94 2.06.94-2.06 2.06-.94-2.06-.94-.94-2.06-.94 2.06-2.06.94zm-11 1L8.5 8.5l.94-2.06 2.06-.94-2.06-.94L8.5 2.5l-.94 2.06-2.06.94zm10 10l.94 2.06.94-2.06 2.06-.94-2.06-.94-.94-2.06-.94 2.06-2.06.94z\"/><path d=\"M17.41 7.96l-1.37-1.37c-.4-.4-.92-.59-1.43-.59-.52 0-1.04.2-1.43.59L10.3 9.45l-7.72 7.72c-.78.78-.78 2.05 0 2.83L4 21.41c.39.39.9.59 1.41.59.51 0 1.02-.2 1.41-.59l7.78-7.78 2.81-2.81c.8-.78.8-2.07 0-2.86zM5.41 20L4 18.59l7.72-7.72 1.47 1.35L5.41 20z\"/>\n",
              "  </svg>\n",
              "      </button>\n",
              "      \n",
              "  <style>\n",
              "    .colab-df-container {\n",
              "      display:flex;\n",
              "      flex-wrap:wrap;\n",
              "      gap: 12px;\n",
              "    }\n",
              "\n",
              "    .colab-df-convert {\n",
              "      background-color: #E8F0FE;\n",
              "      border: none;\n",
              "      border-radius: 50%;\n",
              "      cursor: pointer;\n",
              "      display: none;\n",
              "      fill: #1967D2;\n",
              "      height: 32px;\n",
              "      padding: 0 0 0 0;\n",
              "      width: 32px;\n",
              "    }\n",
              "\n",
              "    .colab-df-convert:hover {\n",
              "      background-color: #E2EBFA;\n",
              "      box-shadow: 0px 1px 2px rgba(60, 64, 67, 0.3), 0px 1px 3px 1px rgba(60, 64, 67, 0.15);\n",
              "      fill: #174EA6;\n",
              "    }\n",
              "\n",
              "    [theme=dark] .colab-df-convert {\n",
              "      background-color: #3B4455;\n",
              "      fill: #D2E3FC;\n",
              "    }\n",
              "\n",
              "    [theme=dark] .colab-df-convert:hover {\n",
              "      background-color: #434B5C;\n",
              "      box-shadow: 0px 1px 3px 1px rgba(0, 0, 0, 0.15);\n",
              "      filter: drop-shadow(0px 1px 2px rgba(0, 0, 0, 0.3));\n",
              "      fill: #FFFFFF;\n",
              "    }\n",
              "  </style>\n",
              "\n",
              "      <script>\n",
              "        const buttonEl =\n",
              "          document.querySelector('#df-8b82e9fb-fdfc-47b4-bf7f-e322813a6edc button.colab-df-convert');\n",
              "        buttonEl.style.display =\n",
              "          google.colab.kernel.accessAllowed ? 'block' : 'none';\n",
              "\n",
              "        async function convertToInteractive(key) {\n",
              "          const element = document.querySelector('#df-8b82e9fb-fdfc-47b4-bf7f-e322813a6edc');\n",
              "          const dataTable =\n",
              "            await google.colab.kernel.invokeFunction('convertToInteractive',\n",
              "                                                     [key], {});\n",
              "          if (!dataTable) return;\n",
              "\n",
              "          const docLinkHtml = 'Like what you see? Visit the ' +\n",
              "            '<a target=\"_blank\" href=https://colab.research.google.com/notebooks/data_table.ipynb>data table notebook</a>'\n",
              "            + ' to learn more about interactive tables.';\n",
              "          element.innerHTML = '';\n",
              "          dataTable['output_type'] = 'display_data';\n",
              "          await google.colab.output.renderOutput(dataTable, element);\n",
              "          const docLink = document.createElement('div');\n",
              "          docLink.innerHTML = docLinkHtml;\n",
              "          element.appendChild(docLink);\n",
              "        }\n",
              "      </script>\n",
              "    </div>\n",
              "  </div>\n",
              "  "
            ]
          },
          "metadata": {},
          "execution_count": 3
        }
      ]
    },
    {
      "cell_type": "code",
      "source": [
        "from PIL import Image\n",
        "x= np.array(data['Images']) \n",
        "y= np.array(data['Final Labels']) \n",
        "image= Image.open(\"/content/drive/MyDrive/OurDataset/\"+x[0])\n",
        "plt.imshow(image)\n",
        "image=np.array(image)\n",
        "print(image.shape)"
      ],
      "metadata": {
        "colab": {
          "base_uri": "https://localhost:8080/",
          "height": 157
        },
        "id": "HAA8ubNqc_rD",
        "outputId": "a72944c4-405f-4039-ff9e-68b080def24f"
      },
      "execution_count": 4,
      "outputs": [
        {
          "output_type": "stream",
          "name": "stdout",
          "text": [
            "(119, 449)\n"
          ]
        },
        {
          "output_type": "display_data",
          "data": {
            "text/plain": [
              "<Figure size 432x288 with 1 Axes>"
            ],
            "image/png": "[encoded data removed]"
          },
          "metadata": {
            "needs_background": "light"
          }
        }
      ]
    },
    {
      "cell_type": "code",
      "source": [
        "x_image=[]\n",
        "#i=0\n",
        "for impath in x:\n",
        "  #image=Image.open(\"/content/drive/MyDrive/OurDataset/\"+impath)\n",
        "  #i=i+1\n",
        "  im = Image.open(\"/content/drive/MyDrive/OurDataset/\"+impath)\n",
        "  #newImg= im.thumbnail((28,28))\n",
        "  #newImg2=np.array(newImg)\n",
        "  #print(newImg2)\n",
        "  im2=im.resize((128,128))\n",
        "  im3=np.array(im2)\n",
        "  image3 = im3.astype('float32')\n",
        "  #image3 /= 255  \n",
        "  #plt.imshow(newImg2)\n",
        "  #print(im2)\n",
        "  \n",
        "  #plt.imshow(newImg)\n",
        "  x_image.append(image3)\n",
        "  #print(im3)\n",
        "  #newImg.save('image_400.jpg')\n",
        "  #from google.colab.patches import cv2_imshow\n",
        "  #cv2_imshow(newImg2)"
      ],
      "metadata": {
        "id": "YLdJMj7idDEA"
      },
      "execution_count": 5,
      "outputs": []
    },
    {
      "cell_type": "code",
      "source": [
        "print(x_image[0])"
      ],
      "metadata": {
        "colab": {
          "base_uri": "https://localhost:8080/"
        },
        "id": "WctDcMfXJj26",
        "outputId": "b63ddc11-43e5-46ac-de4b-668f054a8693"
      },
      "execution_count": 6,
      "outputs": [
        {
          "output_type": "stream",
          "name": "stdout",
          "text": [
            "[[0. 0. 0. ... 0. 0. 0.]\n",
            " [0. 0. 0. ... 0. 0. 0.]\n",
            " [0. 0. 0. ... 0. 0. 0.]\n",
            " ...\n",
            " [0. 0. 0. ... 0. 0. 0.]\n",
            " [0. 0. 0. ... 0. 0. 0.]\n",
            " [0. 0. 0. ... 0. 0. 0.]]\n"
          ]
        }
      ]
    },
    {
      "cell_type": "code",
      "source": [
        "print(y[0])\n",
        "plt.imshow(x_image[0])\n",
        "#x_image= np.array(x_image)"
      ],
      "metadata": {
        "colab": {
          "base_uri": "https://localhost:8080/",
          "height": 302
        },
        "id": "KVOZfbFPdXQh",
        "outputId": "3b4ec83e-a789-4e10-8faf-2de63053ede2"
      },
      "execution_count": 7,
      "outputs": [
        {
          "output_type": "stream",
          "name": "stdout",
          "text": [
            "aaA|laB|shM|raE|aaA|yaB|ayE\n"
          ]
        },
        {
          "output_type": "execute_result",
          "data": {
            "text/plain": [
              "<matplotlib.image.AxesImage at 0x7f0c3425d1d0>"
            ]
          },
          "metadata": {},
          "execution_count": 7
        },
        {
          "output_type": "display_data",
          "data": {
            "text/plain": [
              "<Figure size 432x288 with 1 Axes>"
            ],
            "image/png": "[encoded data removed]"
          },
          "metadata": {
            "needs_background": "light"
          }
        }
      ]
    },
    {
      "cell_type": "code",
      "source": [
        "x_image= np.array(x_image)\n",
        "train_x, test_x, train_y, test_y = train_test_split(x_image, y, test_size = 0.2)\n",
        "\n",
        "IMG_SIZE=128\n",
        "train_x=np.array(train_x).reshape(-1,IMG_SIZE,IMG_SIZE,1)\n",
        "test_x=np.array(test_x).reshape(-1,IMG_SIZE,IMG_SIZE,1)\n",
        "print(train_x.shape)\n",
        "print(test_x.shape)\n",
        "\n",
        "print(\"Train data shape: \", train_x.shape)\n",
        "print(\"Test data shape: \", test_x.shape)\n",
        "'''\n",
        "print(x_image.shape)\n",
        "x_train= x_image[0:500]\n",
        "x_test=x_image[500:]\n",
        "y_train= y[0:500]\n",
        "y_test= y[500:]\n",
        "\n",
        "print(x_train.shape)\n",
        "print(len(x_train))\n",
        "print(len(x_test))\n",
        "print(len(y_train))\n",
        "print(len(y_test))\n",
        "'''"
      ],
      "metadata": {
        "colab": {
          "base_uri": "https://localhost:8080/",
          "height": 122
        },
        "id": "Jfq3fBrvddGq",
        "outputId": "e69317fb-9010-4e85-c7e9-d9baefed1300"
      },
      "execution_count": 8,
      "outputs": [
        {
          "output_type": "stream",
          "name": "stdout",
          "text": [
            "(429, 128, 128, 1)\n",
            "(108, 128, 128, 1)\n",
            "Train data shape:  (429, 128, 128, 1)\n",
            "Test data shape:  (108, 128, 128, 1)\n"
          ]
        },
        {
          "output_type": "execute_result",
          "data": {
            "text/plain": [
              "'\\nprint(x_image.shape)\\nx_train= x_image[0:500]\\nx_test=x_image[500:]\\ny_train= y[0:500]\\ny_test= y[500:]\\n\\nprint(x_train.shape)\\nprint(len(x_train))\\nprint(len(x_test))\\nprint(len(y_train))\\nprint(len(y_test))\\n'"
            ],
            "application/vnd.google.colaboratory.intrinsic+json": {
              "type": "string"
            }
          },
          "metadata": {},
          "execution_count": 8
        }
      ]
    },
    {
      "cell_type": "code",
      "source": [
        "'''\n",
        "import tensorflow as tf \n",
        "#Normalizing\n",
        "x_trainr = tf.keras.utils.normalize (train_x)\n",
        "x_testr = tf.keras.utils.normalize (test_x)\n",
        "#plt.imshow(x_trainr, cmap= plt.cm.binary)\n",
        "'''"
      ],
      "metadata": {
        "colab": {
          "base_uri": "https://localhost:8080/",
          "height": 54
        },
        "id": "JYCrYu8pdlBY",
        "outputId": "be91cdf7-454b-4c12-82f9-b1063ce57445"
      },
      "execution_count": 9,
      "outputs": [
        {
          "output_type": "execute_result",
          "data": {
            "text/plain": [
              "'\\nimport tensorflow as tf \\n#Normalizing\\nx_trainr = tf.keras.utils.normalize (train_x)\\nx_testr = tf.keras.utils.normalize (test_x)\\n#plt.imshow(x_trainr, cmap= plt.cm.binary)\\n'"
            ],
            "application/vnd.google.colaboratory.intrinsic+json": {
              "type": "string"
            }
          },
          "metadata": {},
          "execution_count": 9
        }
      ]
    },
    {
      "cell_type": "code",
      "source": [
        "#Resizing image\n",
        "import numpy as np \n",
        "IMG_SIZE=128\n",
        "x_trainr=np.array(train_x).reshape(-1,IMG_SIZE,IMG_SIZE,1)\n",
        "x_testr=np.array(test_x).reshape(-1,IMG_SIZE,IMG_SIZE,1)\n",
        "print(x_trainr.shape)\n",
        "print(x_testr.shape)"
      ],
      "metadata": {
        "colab": {
          "base_uri": "https://localhost:8080/"
        },
        "id": "szJPFN_SdnNI",
        "outputId": "b48697ca-f123-4cf8-f42a-0bf114b3cf33"
      },
      "execution_count": 11,
      "outputs": [
        {
          "output_type": "stream",
          "name": "stdout",
          "text": [
            "(429, 128, 128, 1)\n",
            "(108, 128, 128, 1)\n"
          ]
        }
      ]
    },
    {
      "cell_type": "code",
      "source": [
        "print(train_y)"
      ],
      "metadata": {
        "colab": {
          "base_uri": "https://localhost:8080/"
        },
        "id": "hxsoqoKAM-F5",
        "outputId": "d7abb25d-ffed-4e9f-cda3-edb26f349120"
      },
      "execution_count": 12,
      "outputs": [
        {
          "output_type": "stream",
          "name": "stdout",
          "text": [
            "['daA|jaB|baM11L|teE' 'shB|waE11L|aaA|toA'\n",
            " 'raA|aeA|seA|aaA|laB|dhE11L|raA|aaA|ayA' 'shB|maM11L|aaE|khA'\n",
            " 'shB|maM11L|aaE|khA' 'amA|maA|aaA|laB|taM11L|maM|raE'\n",
            " 'seB|waE|kaA|aaA|laB|seM11L|baM|taE' 'aaA|laB|ayM|baM11L|aaE|daA|aaA|taA'\n",
            " 'haB|yaE|aaA|haMlaB|jaM|aaE|maA' 'taB|aaE|zaA|raA|keB|teE'\n",
            " 'taB|laE11L|aaA|laB|ghM|zaE|aaElaB|naA'\n",
            " 'seB|yaM|daE|yaA|aaA|laB|zaM11L|aaE|heB|raE' 'aeA|keB11L|waE|daA|teA'\n",
            " 'amA|laB|naM11L|faM|yaM|deM|teE' 'aaA|laB|raE|deB11L|aaE|ayA'\n",
            " 'raA|yaB|aaE|deA|baB|waE|heB|aaElaM|laA'\n",
            " 'seB|yaM|daE|yaA|ahA|baB|raE|aaA|heB|yaM|maE|aaA|laB|zaE|heB|aaE|raA'\n",
            " 'aaA|laB|faM|keM11L|teE' 'taB|waE|naB|seE|jaB|baM|aaE|raA|yaA'\n",
            " 'taB|waE|naB|seE|aaA|laB|kaM|baM|aaE|deB|teE|aaA|aeElaB1|saB|laM|yaM12L|teE'\n",
            " 'kaB|baM|aaE11LlaM|toA' 'baB|waE|ayB|thM|maM|aaE|naA'\n",
            " 'seB|baM|ayM|teE|amA|baB|aaE|raA' 'maB|laM|yaM|shM|aaE|taA'\n",
            " 'seB|waE|seB|teE|ahA|baB|naE|khB|laM|daE|waA|naA'\n",
            " 'aaA|laB|raE|naB|aaE|kaB|yaM11L|teE|0A|2A|maB|aaE|raA|seA'\n",
            " 'aaA|laB|maM|naM|saM|waE|raA|teA'\n",
            " 'aaA|laB|ayM|waE|aaA|maB|raE|yaB11L|teE'\n",
            " 'aeA|raA|laB|aaE|daA|faB|raE|jaA|aaA|laB|laM11L|heE'\n",
            " 'baB|raE|jaA|aaA|laB|shM|laM11L|waE|faA'\n",
            " 'maB|raE|faB|kaE|aaA|laB|faM|raE|yaB|waE'\n",
            " 'seB|yaM|daE|yaA|aaA|laB|zaM11L|aaE|heB|raE' 'baB|shM|laM11L|yaE'\n",
            " 'baB|raE|haA|aaA|laB|taM11L|waE|maB14L|yaE'\n",
            " 'baB|alM|raE|maB|shM|aaE|raA|kaB|teE|aaA|laB|ayM|haM|toM|teE'\n",
            " 'kaB|raE|kaB|naM|teE' 'maB|aaE|raA|thA' 'haB|aaE|seB11L|yaE|ayB|maM|raE'\n",
            " 'aaA|laB|ghM|raE|aaA|baB|toE' 'aaA|laB|kaM|aaElaM11L|laA'\n",
            " 'aaA|laB|kaM|laM|ayM|teE|aaA|laB|saM11L|ghM|raE|eeA'\n",
            " 'amA|laB|ghM|deM|aaE|baB|naM|teE' 'maB|aaE|raA|thA'\n",
            " 'maB|thM|aaE|naB|yaM|teE' 'seB|yaM|daE|yaA|daA|aaA|waA|daA'\n",
            " 'aaA|khMlaB|laM|yaM|jaE' 'ayB|jaM|naM|kaM|teE' 'maB|thM|laM|yaM|naE'\n",
            " 'aaA|maMlaB|zaE11L|waA|naB|teE' 'daA|waA11L|aaA|raA|heB|yaM|shM|zaE'\n",
            " 'waA|dhA|raA|faA' 'haB|yaE11L|baB|waE|saB|faM11L|aaE|raA|teA'\n",
            " 'aaA|laB|kaM|laM|ayM|teE|aaA|laB|saM|ghM|raE|eeA'\n",
            " 'kaB|raE|yaB|baM|yaM|saE' 'baB|aaElaM11L|raA|yaB|jaM|yaM|aaE'\n",
            " 'baB|waE|ayB|toM11L|waE|shA' 'maB|raE|keB|zaE|faB|saM11L|aaE|saA'\n",
            " 'taB|toM|aaE|waA|yaB|naE|7A|naB|waE|faB|maM|baM|raE'\n",
            " 'daA|waA11L|aaA|raA|aaA|laB|laM11L|waE|aaA|taB|heE' 'saB|baM|yaM|haE'\n",
            " 'zaA|naB11L|waE|shA' 'raA|kaB11L|aaE|daA|teA'\n",
            " 'aaA|laB|maM|raE|naB|aaE|kaB|yaM11L|teE|0A|2A|maB|aaE|raA|seA'\n",
            " 'taB|waE|naB|seE|thB|aaE|maB|raE'\n",
            " 'maB|raE|seB|eeE|aaA|laB|saM11L|faM|saM|aaE|faA'\n",
            " 'aeA|waA|aaElaB|daA|haB|faM11L|waE|zaA' 'shB|waE11L|aaA|toA'\n",
            " 'aaA|laB|naM|saM|raE' 'aaA|laB|maM|haM|aaE|raA|zaA|teA|8A|8RA'\n",
            " 'taB|waE|naB|seE|aaA|laB|kaM|baM|aaE|deB|teE|aaA|aaElaB|saB12L|laM|yaM|teE'\n",
            " 'haM11LnaB|aaE|laA' 'kaB|raE|ayB|teE|seB|aaE|seB|yaE'\n",
            " 'amA|laB|shM11L|aaE|baB|teE' 'ayB|yaM|naE|aaA|laB|saM11L|baM|haE'\n",
            " 'aaA|laB|maM|raE|jaB|yaE' 'haB|yaE|aaA|maMlaB|jaM11L|aaE|maA'\n",
            " 'seB|yaM|daE|yaA|ayB|thM|maM|aaE|naA'\n",
            " 'baB|alM|raE|aaA|laB|shM|aaE|waA|shA' 'naB|keM|raE|yaB|faE'\n",
            " 'kaB|raE|ayB|teE|aaA|laB|naM|ayM11L|aaE|maA'\n",
            " 'aaA|laB|shM|raE|aaA|yaB|ayE' 'raA|waA11L|aaA|daA'\n",
            " 'aeA|waA|aaElaB|daA|haB|ghM11L|waE|zaA'\n",
            " 'maB|taM|laM|waE11L|yaA|thB|aaE|jaMlaB|teE'\n",
            " 'waA|aaA|daA|yaA|aaA|laB|seM11L12L|waE|aaA|naB|yaE'\n",
            " 'aaA|maMlaB|raE|naB|aaE|kaB1|yaM|teE|0A|2A|maB|aaE|raA|seA'\n",
            " 'aeA|keB11L|waE|daA|teA' 'kaB|toM11L|waE|faB|teE' 'taB|baM|raE|seB|kaE'\n",
            " 'shB|maM11L|aaE|khA' 'ayB|yaM|naE|taB|baM|raE|naB|kaE'\n",
            " 'baB|naM|yaE|haB|seM11L|aaE|naA' 'aaA|laB|waE|daA|yaB|aaE|naA'\n",
            " 'ayB|yaM|naE|ghB|aaElaM|laA' 'seB|yaM|daE|yaA|khB|yaM|aaE|raA'\n",
            " 'aaA|laB|maM|raE|naB|aaE|kaB|yaM11L|teE|0A|2A|maB|aaE|raA|seA'\n",
            " 'naB|haM11L|aaE|laA' 'naB|kaM11L|teE'\n",
            " 'daA|yaB|aaE|raA|aaA|laB|haM|jaM11L|aaE|haA'\n",
            " 'maB|raE|keB|zaE|kaB|saM11L|aaE|saA' 'laB|faM11L|aaE|maA'\n",
            " 'aaA|laB|maM|naM|raE|heA|9A'\n",
            " 'maB|kaM|raE|yaB|naE|aaA|laB|raE11L|yaB|aaE|deA'\n",
            " 'seB|yaM|daE|yaA|faB|taM|haE|aaA|laB|laM11L|heE'\n",
            " 'aaA|laB|seM|baM11L|aaE|laB|teE'\n",
            " 'thB|waE|zaA|raA|aaA|laB|ayM|toM|aaE|raA' 'haB|faM11L|waE|zaA'\n",
            " 'aaA|laB|shM|aaE|baB11L|teE'\n",
            " 'aaA|maMlaB|raE|naB|aaE|kaB11L|yaM|teE|0A|2A|maB|aaE|raA|seA'\n",
            " 'aeA|waA|aaElaB|daA|haB|faM11L|waE|zaA' 'aaA|laB|faM|haM|saE'\n",
            " 'haB|yaE|aaA|laB|baM|haM|raE|baA' 'aaA|laB|daE|khB|aaE|yaB|laM|yaM|teE'\n",
            " 'aaA|laB|khM|zaM|raE|aaA|hhA'\n",
            " 'haB|maM11L|aaE|daA|yaA|aaA|laB|kaM|baM|laM|yaE'\n",
            " 'aaA|laB|faM|aaE|yaB|deE' 'kaB|saM|waE|raA|aaA|laB|seM11L|aaE|faA'\n",
            " 'aaA|laB|raE|daA|yaB|faE|aaA|laB|maM|haM|toM11L|teE'\n",
            " 'baB|alM|raE|aaA|laB|daE11L|waA|laB|teE' 'keB11L|aaE|laA'\n",
            " 'aeA|keB|waE|daA|teA' 'maB|naM|zaE|laA|taB|maM|yaM|maE'\n",
            " 'haB|baM|laE|aaA|laB|waE|seB|toE' 'haB|yaE|aaA|laB|saM|aaElaM|haA'\n",
            " 'aaA|laB|naM|faM|yaM|deM|teE' 'aaA|laB|daE|khB11L|aaE|naB|yaM|teE'\n",
            " 'waA|dhA|raA|faA' 'aaA|laB|daE|khB11L|aaE|naB|yaM|teE'\n",
            " 'taB|aaE|faB|laM11L|waE|naA' 'aaA|laB|maM|haM|raE|saA'\n",
            " 'haB|yaE|aaA|laB|haM|jaM11L|aaE|maA'\n",
            " 'baB|naM|zaE|raA|taA|baB|aaE|baA|maB|aaE|toB|raE'\n",
            " 'maB|naM|zaE|laA|baB|waE|zaA|yaB11L|aaE|naA'\n",
            " 'ayB|yaM|naE|maB|dhE|aaA|keB|raE' 'maB|aaE|raA|thA'\n",
            " 'ayB|yaM|naE|maB|dhE|aaA|keB|raE'\n",
            " 'aaA|laB|kaM|laM|ayM|teE|aaA|laB|saM11L|ghM|raE|eeA'\n",
            " 'haB|yaE|amA|laB|taM|haM|raE|yaB|raE'\n",
            " 'aaA|maMlaB|heM|daE|yaB|teE|heB|yaM|baM|waE|naA' 'haB|waE11L|aaA|faA'\n",
            " 'shB|taM|aaE|waA|teA|saB|haM|raE|aaA|waA|yaA' 'seB|maM|naM|jaM|teE'\n",
            " 'keB|maM|baM|waE|toA'\n",
            " 'aaA|laB|raE|kaB11L|waE|baB|teE|aaA|haMlaB|maM|raE|aaA|hhA'\n",
            " 'maB|jaM|aaE|zaA|aaA|laB|baM|aaE|baA' 'ghB|zaE|aaA|laB|teE'\n",
            " 'shB|taM|aaE|waA|teA|saB|haM|raE|aaA|waA|yaA' 'aaA|laB|faM|aaE|yaB|deE'\n",
            " 'haB|laM|kaE|aaA|laB|waE|aaA|daA|yaA' 'baB|waE|zaA|kaB|aaE|maA'\n",
            " 'aaElaB|laB|teE' 'baB|waE|raA|waA|yaB|seE|kaB|aaElaM|haB|yaE'\n",
            " 'maB|aaE|raA|thA' 'aaA|laB|raE|daA|yaB|faE|aaA|haMmaMlaB|toM11L|teE'\n",
            " 'waA|aaA|daA|yaA|aaA|laB|raE11L|maB|laE' 'raA|waA11L|aaA|daA'\n",
            " 'haB|aaE|maB|teE|aaA|jaMlaB|raE|yaB|daE'\n",
            " 'taB|laE11L|aaA|laB|ghM|zaE|aaElaB|naA' 'aaA|laB|naM|faM|yaM|deM|teE'\n",
            " 'maB|aaE|jaB|waE|raA|teA'\n",
            " 'aaA|laB|maM|raE|naB|aaE|kaB|yaM11L|teE|0A|2A|maB|aaE|raA|seA'\n",
            " 'taB|waE|naB|seE|aaA|laB|kaM|baM|aaE|deB|teE|aaA|aeElaB|saB|laM|yaM|teE'\n",
            " 'baB|waE|zaA|raA11L|aaA|ayB|teE' 'aaA|laB|daE|khB|aaE|naB|yaM|teE'\n",
            " 'baB|alM|raE|aaA|laB|toM|yaM11L|baE' 'aaA|laB|maM|laM|kaM|eeE'\n",
            " 'seB|yaM|daE|yaA|baB|waE|baB|keM11L|raE' 'baB|waE|ayB|thM|maM|aaE|naA'\n",
            " 'aaA|maMlaB|raE|naB|aaE|kaB1|yaM|teE|0A|2A|maB|aaE|raA|seA'\n",
            " 'aaA|laB|maM|taM|laM|waE11L|yaA' 'naB|kaM11L|teE'\n",
            " 'waA|aaA|daA|yaA|maB|aaE11LlaM|kaA'\n",
            " 'raA|aeA|seA|aaA|laB|dhE11L|raA|aaA|ayA'\n",
            " 'jaB|baM|laE|aaA|laB|maM|zaM|yaM|laM11L|teE'\n",
            " 'maB|raE|keB|zaE|seB|haM|naM|waE|naA' 'kaB|saM|raE|daA|baB11L|aaE|baA'\n",
            " 'khB|yaM|toE|aaA|laB|waE|aaA|daA'\n",
            " 'raA|baB|aaE|yaB|ayE|seB|yaM|daE|yaA|zaB|aaE|heB|raE'\n",
            " 'baB|naM|yaE|keB|laM|thM|waE|maA' 'aaA|laB|maM|keM|aaE|raA|maA'\n",
            " 'zaA|naB11L|waE|shA' 'aaA|laB|seM|baM11L|aaE|laB|teE' 'naB|kaM11L|teE'\n",
            " 'naB|haM11L|aaE|laA' 'kaB|raE|ayB|teE|aaA|laB|naM11L|aaE|zaB|waE|raA'\n",
            " 'raA|yaB|naM|yaM|naE' 'zaA|ayB|faM|raE|aaA|naA'\n",
            " 'seB|yaM|daE|yaA|ayB|baM11L|aaE|seA' 'kaB|raE|yaB|baM|yaM|saE'\n",
            " 'haB|maM11L|aaE|maA|aaA|laB|zaE|raA|yaB|baM|teE'\n",
            " 'aaA|laB|raE|daA|yaB|faE|aaA|haMmaMlaB|toM|teE' 'aaA|laB|faM|aaE|yaB|deE'\n",
            " 'aaA|laB|kaM|saM|raE|yaB|naE|aaA|laB|zaE11L|heB|waE|raA'\n",
            " 'haB|yaE|aaA|laB|seM11L|raE|waA|raA' 'seB|laM|yaM|maM|aaE|naA'\n",
            " 'seB|yaM|daE|yaA|seB|ayM|daE'\n",
            " 'haB12L|maM11L|aaE|laA|haB|yaM1|zaE|aaA|laB|daE|yaB|naE'\n",
            " 'seB|waE|seB|teE|aaA|laB|zaE|heB|waE|raA' 'aaA|laB|raE|deB|aaE|ayA'\n",
            " 'aaA|laB|haM|aaE|maB11L|teE|aaA|laB|ayM|naM|waE|baB|yaM|teE'\n",
            " 'shB|maM11L|aaE|khA' 'seB|aaE|kaB|yaM|teE|aaA|laB|zaE11L|yaB|taE'\n",
            " 'toB|baM11L|aaE|baB|teE'\n",
            " 'maB|naM|zaE|laA|baB|waE|raA|kaB|yaM|baM|teE|aaA|laB|naM11L|jaM|aaE|haA'\n",
            " 'aaA|laB|ayM|raE|naB|aaE|kaB12L|yaM|teE'\n",
            " 'maB|naM|zaE|laA|baB|waE|raA|kaB|yaM|baM|teE|aaA|laB|naM11L|jaM|aaE|haA'\n",
            " 'aaA|laB|heM|yaM|shM|raE|yaB11L|teE' 'maB|aaE|raA|thA'\n",
            " 'baB|waE|ayB|thM|maM|aaE|naA' 'kaB|baM|aaElaM11L|toA'\n",
            " 'ayB|baM|yaM|daE|teA|aaA|laB|shM|raE|kaB|yaM|teE'\n",
            " 'aaA|laB|baM|toM11L|aaE|naA'\n",
            " 'aeA|waA|taB|yaM|keE|aaA|jaMlaB|daE|yaB|daE|teA' 'haM11LnaB|aaE|laA'\n",
            " 'aaA|laB|naM|faM|yaM|deM|teE'\n",
            " 'aeA|waA|aaElaB1|daA|jaB|aaE|baA|aaA|laB|laM11L|heE'\n",
            " 'haB|yaE|aaA|laB|saM|aaElaM|haA' 'shB|aaE|naB|shM|waE'\n",
            " 'shB|toE|aaA|laB|seM11L|aaElaM|maA' 'aaA|laB|raE|waA|haB|yaM|teE'\n",
            " 'aaA|laB|naM|waE|aaA|yaB|laE' 'haB|yaE|baB|waE|saB|faM11L|aaE|raA|teA'\n",
            " 'aaA|laB|raE11L|jaB|aaE|hhA' 'haB|zaE|waA|teA'\n",
            " 'raA|baB|aaE|yaB|ayE|seB|yaM|daE|yaA|zaB|aaE|heB|raE' 'daA|kaB11L|teE'\n",
            " 'aaA|laB|saM|maM|aaE|raA'\n",
            " 'waA|aaA|daA|yaA|aaA|laB|seM11L|waE|aaA|yaB|naM|yaE'\n",
            " 'ayB|yaM|naE|aaA|laB|keM|raE|maB|teE' 'haB|yaE|aaA|laB|saM|aaElaM|haA'\n",
            " 'aaA|laB|maM|haM|aaE|raA|zaA|teA|8A|1A' 'aaA|laB|keM|baM11L|aaE|raA|teA'\n",
            " 'taB|waE|naB|keM|taE' 'seB|aaE|kaB|yaM|teE|aaA|laB|zaE|yaB|taE'\n",
            " 'taB|laE11L|aaA|laB|ghM|zaE|aaElaB|naA' 'ayB|yaM|naE|taB|baM|raE|naB|kaE'\n",
            " 'aaA|laB|maM|haM|aaE|seB|naE' 'aaA|laB|daE|khB11L|aaE|naB|yaM|teE'\n",
            " 'maB|naM|zaE|laA|aaA|laB|haM|baM|yaM|baE'\n",
            " 'maB|taM|raE|laA|baB|waE|raA|kaB|yaM|baM|teE|aaA|laB|jaM11L|aaE|haA'\n",
            " 'raA|yaB|aaE|deA|baB|waE|heB|aaElaM|laA' 'daA|ghB|waE|maB|seE'\n",
            " 'kaB|saM|raE|daA|baB11L|aaE|baA'\n",
            " 'keB|seM|raE|eeA|aaA|laB|ayM|laM|yaM|aaE'\n",
            " 'maB|raE|seB|eeE|aaA|laB|raE11L|yaB|aaE|deA' 'naB|kaM|teE'\n",
            " 'haB|baM|laE|aaA|laB|maM|zaM|yaM|laM11L|teE'\n",
            " 'aaA|laB|naM11L|aaE|deB|waE|raA'\n",
            " 'aeA|waA|aaElaB|daA|aaA|laB|shM11L|aaE|maB|khE'\n",
            " 'saB|faM|aaE|kaB|seE|haB|shM12L|aaE|daA'\n",
            " 'daA|aaA|raA|shB|ayM|baM|aaE|naA|aaA|laB|shM|aaE|toB|eeE|hhA'\n",
            " 'maB|naM|zaE|laA|baB|waE|raA|kaB|yaM|baM|teE|aaA|laB|naM11L|jaM|aaE|haA'\n",
            " 'seB|yaM|daE|yaA|aaA|baB|raE|aaA|heB|yaM|maE|aaA|laB|zaE|heB11L|aaE|raA'\n",
            " 'amA|laB|maM|naM|saM|waE|raA|teA'\n",
            " 'kaB|aaE|baB|seE|aaA|jaMlaB|maM|heM|waE|raA|yaB11L|teE'\n",
            " 'zaA|naB11L|waE|shA' 'zaA|aaA|waA|yaB|teE|kaB|naM|toM|shE'\n",
            " 'naB|ayM|seM|aaE|naA' 'waA|raA|ghB|seE'\n",
            " 'aaA|laB|maM|haM|aaE|raA|zaA|teA|8A|1A' 'aaA|laB|maM|naM|zaE|teA|9A'\n",
            " 'aaA|laB|heM|daE|aaA|daA|raA|teA'\n",
            " 'aaA|laB|maM|raE|naB|aaE|kaB|yaM11L|teE|0A|2A|maB|aaE|raA|seA'\n",
            " 'aaA|laB|naM|aaE|deB|waE|raA' 'zaA|naB11L|waE|shA'\n",
            " 'aaA|laB|baM|aaE|toB|naE' 'baB|waE|zaA|raA11L|aaA|ayB|teE'\n",
            " 'heB|dhE|yaB|laE' 'naB|kaM11L|teE'\n",
            " 'aaA|laB|maM|raE|naB|aaE|kaB|yaM11L|teE|0A|2A|maB|aaE|raA|seA'\n",
            " 'taB|laE11L|aaA|laB|ghM|zaE|aaElaB|naA'\n",
            " 'seB|yaM|daE|yaA|ahA|baB|raE|aaA|heB|yaM|maE|aaA|laB|zaE11L|heB11L|aaE|raA'\n",
            " 'seB|waE|seB|teE|ahA|baB|naE|khB|laM|daE|waA|naA'\n",
            " 'ghB|aaE|raA|aaA|laB|maM|laM|haE'\n",
            " 'maB|naM|zaE|laA|baB|waE|raA|kaB|yaM|baM|teE|aaA|laB|naM11L|jaM|aaE|haA'\n",
            " 'aeA|waA|aaElaB|daA|haB|faM11L|waE|raA' 'aaA|laB|maM|naM|zaE|heA|9A'\n",
            " 'shB|taM|aaE|waA|teA|saB|haM|raE|aaA|waA|yaA'\n",
            " 'aaA|laB|maM|naM|saM|waE|raA|teA|aaA|laB|seM|waE11L|aaA|seB|yaE'\n",
            " 'aaA|laB|dhE|waA|yaB|baM|aaE|taA'\n",
            " 'shB|taM|aaE|waA|teA|saB|haM|raE|aaA|waA|yaA' 'aaA|laB|khM|laM|yaM|jaE'\n",
            " 'maB|aaE|raA|thA' 'baB|waE|ghB|raE|aaA|raA|teA'\n",
            " 'aaA|laB|ayM|maM|raE|aaA|naA|aaA|aeElaB|ayB|laM|eeE'\n",
            " 'aaA|laB|zaE|heB|raE|aaA|hhA|aaA|haMlaB|baM|yaM|baE'\n",
            " 'seB|yaM|daE|yaA|maB|seM|laM|yaM|naE'\n",
            " 'haB|maM11L|aaE|maA|baB|waE|raA|kaB|yaM|baM|teE' 'aeA|keB11L|waE|daA|teA'\n",
            " 'shB12L|toE|aaA|laB|seM11L|aaElaM|maA' 'raA|kaB11L|aaE|daA|teA'\n",
            " 'seB|yaM|daE|yaA|ahA|haB|maM|daE|zaA|raA11L|waA|kaA'\n",
            " 'kaB|aaE|baB|seE|haB|shM|aaE|daA' 'haB|yaE|aaA|laB|khM|deM|raE|aaA|hhA'\n",
            " 'daA|yaB|aaE|raA|aaA|laB|khM|jaM11L|aaE|jaA'\n",
            " 'haB|yaE|aaA|laB|haM|jaM11L|aaE|maA' 'ayB|yaM|naE|taB|baM|raE|naB|kaE'\n",
            " 'raA|baB|aaE|yaB|ayE|seB|yaM|daE|yaA|zaB|aaE|heB|raE'\n",
            " 'taB|toM|aaE|waA|yaB|naE|7A|naB|waE|faB|maM|baM|raE'\n",
            " 'daA|aaA|raA|shB|heM|baM|aaE|naA|aaA|laB|faM|heM|raE|yaA'\n",
            " 'baB|waE|dhA|raA' 'aaA|laB|khM|zaM|raE|aaA|hhA'\n",
            " 'seB|waE|seB|teE|aaA|laB|raE11L|yaB|aaE|deA' 'aaA|laB|maM|taM|raE|teA|6A'\n",
            " 'kaB|raE|ayB|teE|aaA|laB|naM11L|aaE|zaB|waE|raA'\n",
            " 'seB|yaM|daE|yaA|aaA|laB|taM11L|waE|aaA|taB|yaE' 'shB|ayM11L|aaE|laA'\n",
            " 'naB|kaM11L|teE'\n",
            " 'amA|laB|maM|haM|aaE|seB|naE|amA|laB|shM|maM|aaE|laB|yaM11L|teE'\n",
            " 'taB|laE11L|aaA|laB|ghM|zaE|aaElaB|naA' 'naB|haM11L|aaE|laA'\n",
            " 'jaB|baM|laE|aaA|laB|maM|zaM|yaM|laM11L|teE'\n",
            " 'seB|yaM|daE|yaA|ahA|haB|maM|daE|raA|raA11L|waA|kaA'\n",
            " 'seB|yaM|daE|yaA|thB|aaE|baB|taE'\n",
            " 'maB|naM|zaE|laA|baB|waE|raA|kaB|yaM|baM|teE|aaA|laB|naM11L|jaM12L|aaE|haA'\n",
            " 'aaA|laB|khM|laM|yaM|haE' 'raA|aeA|seA|aaA|laB|dhE11L|raA|aaA|ayA'\n",
            " 'aaA|laB|seM|ayM|yaM|daE|teA' 'aeA|keB11L|waE|daA|teA'\n",
            " 'aaA|laB|maM|haM|aaE|raA|zaA|teA|8A|1A'\n",
            " 'aaA|laB|daE|khB11L|aaE|naB|yaM|teE'\n",
            " 'haB|aaE|shB|yaE|aaA|laB|jaM|raE|baB|yaE'\n",
            " 'ayB|yaM|naE|maB|dhE|aaA|keB|raE'\n",
            " 'aaA|laB|kaM|laM|ayM|teE|aaA|laB|keM|baM|raE|eeA'\n",
            " 'aaA|laB|shM|raE|aaA|yaB|ayE' 'seB|yaM|daE|yaA|saB|aaE|laB|haE'\n",
            " 'haB|maM|aaE|maA|aaA|aeElaB|naB|faE'\n",
            " 'seB|yaM|daE|yaA|baB|waE|baB|keM11L|raE' 'shB|waE11L|aaA|toA'\n",
            " 'aaA|laB|shM|aaE|baB11L|teE' 'maB|raE|keB|zaE|kaB|saM11L|aaE|saA'\n",
            " 'aaA|laB|ghM|deM|aaE|baB|naM|teE' 'aaA|khMlaB|laM|yaM|jaE'\n",
            " 'aaA|haMmaMlaB|aaE|raA|zaA|teA' 'zaA|aaA|waA|yaB|teE|kaB|naM|toM|shE'\n",
            " 'daA|waA11L|aaA|raA|aaA|laB|laM11L|waE|aaA|taB|heE'\n",
            " 'seB|aaE|kaB|yaM|teE|aaA|laB|daE11L|aaA|yaB|raE'\n",
            " 'haB|yaE|aaA|haMlaB|jaM11L|aaE|maA' 'haB|aaE|seB11L|yaE|ayB|maM|raE'\n",
            " 'aeA|keB11L|waE|daA|teA' 'haB|maM11L|aaE|maA|aaA|amElaB|naB|faE'\n",
            " 'zaA|naB|waE|shA' 'aaA|laB|maM|keM|naM|aaE|seB11L|yaE'\n",
            " 'aaA|laB|ayM|maM|raE|aaA|naA' 'haB|yaE|aaA|laB|thM|khM|aaE|maB|naE'\n",
            " 'taB|waE|zaA|raA|shB|kaM|raE|aaA|toB|seM|yaE'\n",
            " 'baB|alM|raE|ayB|maM|yaM|raE' 'ayB|yaM|naE|maB|dhE|aaA|keB|raE'\n",
            " 'aaA|laB|raE|deB11L|aaE|ayA' 'aaA|laB|khM|deM|raE|aaA|hhA'\n",
            " 'seB|yaM|daE|yaA|aaA|laB|zaM11L|aaE|heB|raE' 'shB|ayM|aaE|laA'\n",
            " 'aaA|laB|maM|raE|naB|aaE|kaB|yaM|teE|0A|2A|maB|aaE|raA|seA'\n",
            " 'baB|waE|maB|heM|laE' 'shB|maM11L|aaE|khA' 'keB|maM|baM|waE|toA'\n",
            " 'baB|alM|raE|aaA|laB|toM11L|yaM|baE' 'maB|aaE|raA|thA'\n",
            " 'seB|yaM|daE|yaA|ahA|haB|maM|daE|zaA|raA11L|waA|kaA'\n",
            " 'aaA|laB|toM|yaM|aaE|yaB|raE|teA' 'aaA|laB|faM|keM11L|teE'\n",
            " 'taB|toM|aaE|waA|yaB|naE|7A|naB|waE|faB|maM|baM|raE' 'zaA|naB11L|waE|shA'\n",
            " 'aaA|laB|seM|ayM|aaE|daA|teA' 'baB|alM|raE|maB|shM|aaE|raA|kaB|teE'\n",
            " 'taB|yaM|naM|teE|aaA|jaMlaB|daE|yaB|daE|teA' 'aeA|keB11L|waE13L|daA|teA'\n",
            " 'aeA|keB|waE|daA|teA'\n",
            " 'taB|toM|aaE|waA|yaB|naE|7A|naB|waE|faB|maM|baM|raE'\n",
            " 'taB|toM|aaE|waA|yaB|naE|7A|naB|waE|faB|maM|baM|raE'\n",
            " 'raA|aeA|seA|aaA|laB|dhE11L|raA|aaA|ayA'\n",
            " 'ayB|baM|yaM|daE|teA|aaA|laB|shM11L|raE|kaB|yaM11L|teE'\n",
            " 'daA|waA11L|aaA|raA|aaA|laB|laM11L|waE|aaA|taB|teE'\n",
            " 'baB|raE|jaA|aaA|laB|ayM|aaE|maB|raE|yaA'\n",
            " 'seB|yaM|daE|yaA|aeA|haB|maM|daE|zaA|raA11L|waA|kaA'\n",
            " 'maB|laM11L|waE|laB|shE' 'aaA|laB|baM|toM11L|aaE|naA'\n",
            " 'aeA|waA|taB|yaM|keE' 'aeA|waA|aaElaB|daA|aaA|laB|shM|aaE|maB|khE'\n",
            " 'aaA|laB|faM|keM|teE' 'daA|waA11L|aaA|raA|heB|yaM|shM|raE'\n",
            " 'aeA|keB11L|waE|heA|teA'\n",
            " 'aaA|laB|kaM|laM|ayM|teE|aaA|laB|saM11L|ghM|raE|eeA'\n",
            " 'aaA|laB|dhE|raA|yaB|ayM|aaE|taA' 'aaA|laB|maM|haM|aaE|raA|zaA|teA|8A|1A'\n",
            " 'amA|laB|maM|naM|zaE|heA|6A' 'aeA|waA|aaElaB|daA|amA|laB|shM|aaE|maB|khE'\n",
            " 'zaA|naB11L|waE|shA' 'aaA|khMlaB|laM|yaM|jaE' 'keB|raE|keB|raE'\n",
            " 'seB|yaM|daE|yaA|aaA|laB|zaM11L|aaE|heB|raE'\n",
            " 'baB|naM|yaE|haB|seM11L|aaE|naA'\n",
            " 'raA|faB|raE|aaA|faA|aaA|laB|shM11L|aaE|toB|alE'\n",
            " 'maB|seM|aaE|keB|naE|haB|yaE|aaA|laB|jaM|daE|yaB|daE'\n",
            " 'haB|yaE|aaA|haMlaB|jaM11L|aaE|maA'\n",
            " 'kaB|raE|ayB|teE|aaA|laB|naM11L|aaE|zaB|waE|raA' 'heB|dhE|yaB|laE'\n",
            " 'maB|naM|zaE|laA|baB|waE|raA|kaB|yaM|baM|teE|aaA|laB|naM11L|jaM|aaE|haA'\n",
            " 'shB|maM11L|aaE|khA' 'ayB|yaM|naE|zaA|raA|yaB|kaE'\n",
            " 'kaB|saM|yaM|baM|teE|aaA|laB|maM|daE|yaB|waE|naB|yaE'\n",
            " 'aeA|keB11L|waE|daA|teA' 'raA|aeA|seA|aaA|laB|dhE11L|raA|aaA|ayA'\n",
            " 'aaA|laB|maM|naM|zaE|heA'\n",
            " 'aaA|laB|kaM|laM|ayM|teE|aaA|laB|saM11L|ghM|raE|eeA' 'shB|maM11L|aaE|khA'\n",
            " 'raA|yaB|aaE|deA|baB|waE|heB|aaElaM|laA' 'baB|waE|ayB|thM|maM|aaE|naA'\n",
            " 'naB|haM11L|aaE|laA' 'aaA|laB|faM|raE|shA' 'aeA|keB|waE11L13L|daA|heA'\n",
            " 'aaA|khMlaB|laM|yaM|jaE' 'shB|maM11L|aaE|khA'\n",
            " 'taB|waE|naB|seE|aaA|laB|kaM|baM|aaE|deB|teE|aaA|aeElaB|saB|laM|yaM|teE'\n",
            " 'raA|baB|aaE|yaB|ayE|seB|yaM|daE|yaA|zaB|aaE|heB|raE'\n",
            " 'shB|maM11L|aaE|khA' 'zaA|naB11L|waE|shA' 'taB|naM|baM|yaM|baE'\n",
            " 'maB|aaE|raA|thA' 'taB|waE|naB|seE|thB|aaE|maB|raE'\n",
            " 'baB|waE|zaA|raA11L|aaA|ayB|teE' 'keB|naM|daE|aaA|raA'\n",
            " 'raA|baB11L|aaE|naB|teE'\n",
            " 'taB|waE|naB|seE|aaA|laB|kaM|baM|aaE|deB|teE|aaA|amElaB|saB|laM|yaM11L|teE'\n",
            " 'aaA|laB|kaM|laM|ayM|teE|aaA|laB|saM11L|ghM|raE|eeA'\n",
            " 'aaA|laB|taM|deM|aaE|maB|naE|2A' 'haB|yaE|aaA|laB|haM|baM|yaM|baE'\n",
            " 'maB|kaM|raE|yaB|naE|aaA|laB|raE11L|yaB|aaE|deA'\n",
            " 'aaA|laB|maM|haM|aaE|raA|zaA|teA|8A|1A']\n"
          ]
        }
      ]
    },
    {
      "cell_type": "code",
      "source": [
        "# Converting the labels to categorical values...\n",
        "\n",
        "train_yOHE = to_categorical(train_y, num_classes = 9999, dtype='int')\n",
        "print(\"New shape of train labels: \", train_yOHE.shape)\n",
        "\n",
        "test_yOHE = to_categorical(test_y, num_classes = 9999, dtype='int')\n",
        "print(\"New shape of test labels: \", test_yOHE.shape)"
      ],
      "metadata": {
        "colab": {
          "base_uri": "https://localhost:8080/",
          "height": 351
        },
        "id": "tXwdS_vdM5Me",
        "outputId": "ca3b43dc-6da7-487b-a3a7-e9a03913c820"
      },
      "execution_count": 13,
      "outputs": [
        {
          "output_type": "error",
          "ename": "ValueError",
          "evalue": "ignored",
          "traceback": [
            "\u001b[0;31m---------------------------------------------------------------------------\u001b[0m",
            "\u001b[0;31mValueError\u001b[0m                                Traceback (most recent call last)",
            "\u001b[0;32m<ipython-input-13-be132a20a619>\u001b[0m in \u001b[0;36m<module>\u001b[0;34m()\u001b[0m\n\u001b[1;32m      1\u001b[0m \u001b[0;31m# Converting the labels to categorical values...\u001b[0m\u001b[0;34m\u001b[0m\u001b[0;34m\u001b[0m\u001b[0;34m\u001b[0m\u001b[0m\n\u001b[1;32m      2\u001b[0m \u001b[0;34m\u001b[0m\u001b[0m\n\u001b[0;32m----> 3\u001b[0;31m \u001b[0mtrain_yOHE\u001b[0m \u001b[0;34m=\u001b[0m \u001b[0mto_categorical\u001b[0m\u001b[0;34m(\u001b[0m\u001b[0mtrain_y\u001b[0m\u001b[0;34m,\u001b[0m \u001b[0mnum_classes\u001b[0m \u001b[0;34m=\u001b[0m \u001b[0;36m9999\u001b[0m\u001b[0;34m,\u001b[0m \u001b[0mdtype\u001b[0m\u001b[0;34m=\u001b[0m\u001b[0;34m'int'\u001b[0m\u001b[0;34m)\u001b[0m\u001b[0;34m\u001b[0m\u001b[0;34m\u001b[0m\u001b[0m\n\u001b[0m\u001b[1;32m      4\u001b[0m \u001b[0mprint\u001b[0m\u001b[0;34m(\u001b[0m\u001b[0;34m\"New shape of train labels: \"\u001b[0m\u001b[0;34m,\u001b[0m \u001b[0mtrain_yOHE\u001b[0m\u001b[0;34m.\u001b[0m\u001b[0mshape\u001b[0m\u001b[0;34m)\u001b[0m\u001b[0;34m\u001b[0m\u001b[0;34m\u001b[0m\u001b[0m\n\u001b[1;32m      5\u001b[0m \u001b[0;34m\u001b[0m\u001b[0m\n",
            "\u001b[0;32m/usr/local/lib/python3.7/dist-packages/keras/utils/np_utils.py\u001b[0m in \u001b[0;36mto_categorical\u001b[0;34m(y, num_classes, dtype)\u001b[0m\n\u001b[1;32m     60\u001b[0m   \u001b[0;34m[\u001b[0m\u001b[0;36m0.\u001b[0m \u001b[0;36m0.\u001b[0m \u001b[0;36m0.\u001b[0m \u001b[0;36m0.\u001b[0m\u001b[0;34m]\u001b[0m\u001b[0;34m\u001b[0m\u001b[0;34m\u001b[0m\u001b[0m\n\u001b[1;32m     61\u001b[0m   \"\"\"\n\u001b[0;32m---> 62\u001b[0;31m   \u001b[0my\u001b[0m \u001b[0;34m=\u001b[0m \u001b[0mnp\u001b[0m\u001b[0;34m.\u001b[0m\u001b[0marray\u001b[0m\u001b[0;34m(\u001b[0m\u001b[0my\u001b[0m\u001b[0;34m,\u001b[0m \u001b[0mdtype\u001b[0m\u001b[0;34m=\u001b[0m\u001b[0;34m'int'\u001b[0m\u001b[0;34m)\u001b[0m\u001b[0;34m\u001b[0m\u001b[0;34m\u001b[0m\u001b[0m\n\u001b[0m\u001b[1;32m     63\u001b[0m   \u001b[0minput_shape\u001b[0m \u001b[0;34m=\u001b[0m \u001b[0my\u001b[0m\u001b[0;34m.\u001b[0m\u001b[0mshape\u001b[0m\u001b[0;34m\u001b[0m\u001b[0;34m\u001b[0m\u001b[0m\n\u001b[1;32m     64\u001b[0m   \u001b[0;32mif\u001b[0m \u001b[0minput_shape\u001b[0m \u001b[0;32mand\u001b[0m \u001b[0minput_shape\u001b[0m\u001b[0;34m[\u001b[0m\u001b[0;34m-\u001b[0m\u001b[0;36m1\u001b[0m\u001b[0;34m]\u001b[0m \u001b[0;34m==\u001b[0m \u001b[0;36m1\u001b[0m \u001b[0;32mand\u001b[0m \u001b[0mlen\u001b[0m\u001b[0;34m(\u001b[0m\u001b[0minput_shape\u001b[0m\u001b[0;34m)\u001b[0m \u001b[0;34m>\u001b[0m \u001b[0;36m1\u001b[0m\u001b[0;34m:\u001b[0m\u001b[0;34m\u001b[0m\u001b[0;34m\u001b[0m\u001b[0m\n",
            "\u001b[0;31mValueError\u001b[0m: invalid literal for int() with base 10: 'daA|jaB|baM11L|teE'"
          ]
        }
      ]
    },
    {
      "cell_type": "code",
      "source": [
        "model = Sequential()\n",
        "\n",
        "model.add(Conv2D(filters=32, kernel_size=(3, 3), activation='relu', input_shape=(28,28,1)))\n",
        "model.add(MaxPool2D(pool_size=(2, 2), strides=2))\n",
        "\n",
        "model.add(Conv2D(filters=64, kernel_size=(3, 3), activation='relu', padding = 'same'))\n",
        "model.add(MaxPool2D(pool_size=(2, 2), strides=2))\n",
        "\n",
        "model.add(Conv2D(filters=128, kernel_size=(3, 3), activation='relu', padding = 'valid'))\n",
        "model.add(MaxPool2D(pool_size=(2, 2), strides=2))\n",
        "\n",
        "model.add(Flatten())\n",
        "\n",
        "model.add(Dense(64,activation =\"relu\"))\n",
        "model.add(Dense(128,activation =\"relu\"))\n",
        "\n",
        "model.add(Dense(100,activation =\"softmax\"))"
      ],
      "metadata": {
        "id": "SttQwJQKed1c"
      },
      "execution_count": null,
      "outputs": []
    },
    {
      "cell_type": "code",
      "source": [
        "model.compile(optimizer = Adam(learning_rate=0.001), loss='categorical_crossentropy', metrics=['accuracy'])\n",
        "\n",
        "history = model.fit(x_trainr, train_yOHE, epochs=1,  validation_data = (x_testr,test_yOHE))\n"
      ],
      "metadata": {
        "colab": {
          "base_uri": "https://localhost:8080/",
          "height": 732
        },
        "id": "XVX6vqg3iR2p",
        "outputId": "63fb6d87-0e22-497a-ba58-a1390b86dadc"
      },
      "execution_count": null,
      "outputs": [
        {
          "output_type": "error",
          "ename": "ValueError",
          "evalue": "ignored",
          "traceback": [
            "\u001b[0;31m---------------------------------------------------------------------------\u001b[0m",
            "\u001b[0;31mValueError\u001b[0m                                Traceback (most recent call last)",
            "\u001b[0;32m<ipython-input-38-8d0e85f01c59>\u001b[0m in \u001b[0;36m<module>\u001b[0;34m()\u001b[0m\n\u001b[1;32m      1\u001b[0m \u001b[0mmodel\u001b[0m\u001b[0;34m.\u001b[0m\u001b[0mcompile\u001b[0m\u001b[0;34m(\u001b[0m\u001b[0moptimizer\u001b[0m \u001b[0;34m=\u001b[0m \u001b[0mAdam\u001b[0m\u001b[0;34m(\u001b[0m\u001b[0mlearning_rate\u001b[0m\u001b[0;34m=\u001b[0m\u001b[0;36m0.001\u001b[0m\u001b[0;34m)\u001b[0m\u001b[0;34m,\u001b[0m \u001b[0mloss\u001b[0m\u001b[0;34m=\u001b[0m\u001b[0;34m'categorical_crossentropy'\u001b[0m\u001b[0;34m,\u001b[0m \u001b[0mmetrics\u001b[0m\u001b[0;34m=\u001b[0m\u001b[0;34m[\u001b[0m\u001b[0;34m'accuracy'\u001b[0m\u001b[0;34m]\u001b[0m\u001b[0;34m)\u001b[0m\u001b[0;34m\u001b[0m\u001b[0;34m\u001b[0m\u001b[0m\n\u001b[1;32m      2\u001b[0m \u001b[0;34m\u001b[0m\u001b[0m\n\u001b[0;32m----> 3\u001b[0;31m \u001b[0mhistory\u001b[0m \u001b[0;34m=\u001b[0m \u001b[0mmodel\u001b[0m\u001b[0;34m.\u001b[0m\u001b[0mfit\u001b[0m\u001b[0;34m(\u001b[0m\u001b[0mx_trainr\u001b[0m\u001b[0;34m,\u001b[0m \u001b[0mtrain_yOHE\u001b[0m\u001b[0;34m,\u001b[0m \u001b[0mepochs\u001b[0m\u001b[0;34m=\u001b[0m\u001b[0;36m1\u001b[0m\u001b[0;34m,\u001b[0m  \u001b[0mvalidation_data\u001b[0m \u001b[0;34m=\u001b[0m \u001b[0;34m(\u001b[0m\u001b[0mx_testr\u001b[0m\u001b[0;34m,\u001b[0m\u001b[0mtest_yOHE\u001b[0m\u001b[0;34m)\u001b[0m\u001b[0;34m)\u001b[0m\u001b[0;34m\u001b[0m\u001b[0;34m\u001b[0m\u001b[0m\n\u001b[0m",
            "\u001b[0;32m/usr/local/lib/python3.7/dist-packages/keras/utils/traceback_utils.py\u001b[0m in \u001b[0;36merror_handler\u001b[0;34m(*args, **kwargs)\u001b[0m\n\u001b[1;32m     65\u001b[0m     \u001b[0;32mexcept\u001b[0m \u001b[0mException\u001b[0m \u001b[0;32mas\u001b[0m \u001b[0me\u001b[0m\u001b[0;34m:\u001b[0m  \u001b[0;31m# pylint: disable=broad-except\u001b[0m\u001b[0;34m\u001b[0m\u001b[0;34m\u001b[0m\u001b[0m\n\u001b[1;32m     66\u001b[0m       \u001b[0mfiltered_tb\u001b[0m \u001b[0;34m=\u001b[0m \u001b[0m_process_traceback_frames\u001b[0m\u001b[0;34m(\u001b[0m\u001b[0me\u001b[0m\u001b[0;34m.\u001b[0m\u001b[0m__traceback__\u001b[0m\u001b[0;34m)\u001b[0m\u001b[0;34m\u001b[0m\u001b[0;34m\u001b[0m\u001b[0m\n\u001b[0;32m---> 67\u001b[0;31m       \u001b[0;32mraise\u001b[0m \u001b[0me\u001b[0m\u001b[0;34m.\u001b[0m\u001b[0mwith_traceback\u001b[0m\u001b[0;34m(\u001b[0m\u001b[0mfiltered_tb\u001b[0m\u001b[0;34m)\u001b[0m \u001b[0;32mfrom\u001b[0m \u001b[0;32mNone\u001b[0m\u001b[0;34m\u001b[0m\u001b[0;34m\u001b[0m\u001b[0m\n\u001b[0m\u001b[1;32m     68\u001b[0m     \u001b[0;32mfinally\u001b[0m\u001b[0;34m:\u001b[0m\u001b[0;34m\u001b[0m\u001b[0;34m\u001b[0m\u001b[0m\n\u001b[1;32m     69\u001b[0m       \u001b[0;32mdel\u001b[0m \u001b[0mfiltered_tb\u001b[0m\u001b[0;34m\u001b[0m\u001b[0;34m\u001b[0m\u001b[0m\n",
            "\u001b[0;32m/usr/local/lib/python3.7/dist-packages/tensorflow/python/framework/func_graph.py\u001b[0m in \u001b[0;36mautograph_handler\u001b[0;34m(*args, **kwargs)\u001b[0m\n\u001b[1;32m   1145\u001b[0m           \u001b[0;32mexcept\u001b[0m \u001b[0mException\u001b[0m \u001b[0;32mas\u001b[0m \u001b[0me\u001b[0m\u001b[0;34m:\u001b[0m  \u001b[0;31m# pylint:disable=broad-except\u001b[0m\u001b[0;34m\u001b[0m\u001b[0;34m\u001b[0m\u001b[0m\n\u001b[1;32m   1146\u001b[0m             \u001b[0;32mif\u001b[0m \u001b[0mhasattr\u001b[0m\u001b[0;34m(\u001b[0m\u001b[0me\u001b[0m\u001b[0;34m,\u001b[0m \u001b[0;34m\"ag_error_metadata\"\u001b[0m\u001b[0;34m)\u001b[0m\u001b[0;34m:\u001b[0m\u001b[0;34m\u001b[0m\u001b[0;34m\u001b[0m\u001b[0m\n\u001b[0;32m-> 1147\u001b[0;31m               \u001b[0;32mraise\u001b[0m \u001b[0me\u001b[0m\u001b[0;34m.\u001b[0m\u001b[0mag_error_metadata\u001b[0m\u001b[0;34m.\u001b[0m\u001b[0mto_exception\u001b[0m\u001b[0;34m(\u001b[0m\u001b[0me\u001b[0m\u001b[0;34m)\u001b[0m\u001b[0;34m\u001b[0m\u001b[0;34m\u001b[0m\u001b[0m\n\u001b[0m\u001b[1;32m   1148\u001b[0m             \u001b[0;32melse\u001b[0m\u001b[0;34m:\u001b[0m\u001b[0;34m\u001b[0m\u001b[0;34m\u001b[0m\u001b[0m\n\u001b[1;32m   1149\u001b[0m               \u001b[0;32mraise\u001b[0m\u001b[0;34m\u001b[0m\u001b[0;34m\u001b[0m\u001b[0m\n",
            "\u001b[0;31mValueError\u001b[0m: in user code:\n\n    File \"/usr/local/lib/python3.7/dist-packages/keras/engine/training.py\", line 1021, in train_function  *\n        return step_function(self, iterator)\n    File \"/usr/local/lib/python3.7/dist-packages/keras/engine/training.py\", line 1010, in step_function  **\n        outputs = model.distribute_strategy.run(run_step, args=(data,))\n    File \"/usr/local/lib/python3.7/dist-packages/keras/engine/training.py\", line 1000, in run_step  **\n        outputs = model.train_step(data)\n    File \"/usr/local/lib/python3.7/dist-packages/keras/engine/training.py\", line 860, in train_step\n        loss = self.compute_loss(x, y, y_pred, sample_weight)\n    File \"/usr/local/lib/python3.7/dist-packages/keras/engine/training.py\", line 919, in compute_loss\n        y, y_pred, sample_weight, regularization_losses=self.losses)\n    File \"/usr/local/lib/python3.7/dist-packages/keras/engine/compile_utils.py\", line 201, in __call__\n        loss_value = loss_obj(y_t, y_p, sample_weight=sw)\n    File \"/usr/local/lib/python3.7/dist-packages/keras/losses.py\", line 141, in __call__\n        losses = call_fn(y_true, y_pred)\n    File \"/usr/local/lib/python3.7/dist-packages/keras/losses.py\", line 245, in call  **\n        return ag_fn(y_true, y_pred, **self._fn_kwargs)\n    File \"/usr/local/lib/python3.7/dist-packages/keras/losses.py\", line 1790, in categorical_crossentropy\n        y_true, y_pred, from_logits=from_logits, axis=axis)\n    File \"/usr/local/lib/python3.7/dist-packages/keras/backend.py\", line 5083, in categorical_crossentropy\n        target.shape.assert_is_compatible_with(output.shape)\n\n    ValueError: Shapes (None, 9999) and (None, 100) are incompatible\n"
          ]
        }
      ]
    }
  ]
}